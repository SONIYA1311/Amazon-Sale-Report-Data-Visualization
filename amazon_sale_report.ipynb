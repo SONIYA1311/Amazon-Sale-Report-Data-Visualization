{
  "nbformat": 4,
  "nbformat_minor": 0,
  "metadata": {
    "colab": {
      "provenance": []
    },
    "kernelspec": {
      "name": "python3",
      "display_name": "Python 3"
    },
    "language_info": {
      "name": "python"
    }
  },
  "cells": [
    {
      "cell_type": "markdown",
      "source": [
        "# **IMPORTING ALL NECESSARY LIRARIES**"
      ],
      "metadata": {
        "id": "aKMU1tOPQMwk"
      }
    },
    {
      "cell_type": "code",
      "execution_count": 1,
      "metadata": {
        "id": "5MG4Kxu2JgiN"
      },
      "outputs": [],
      "source": [
        "import numpy as np\n",
        "import pandas as pd\n",
        "import matplotlib.pyplot as plt\n",
        "import seaborn as sns\n",
        "import statistics as st"
      ]
    },
    {
      "cell_type": "markdown",
      "source": [
        "Reading the CSV file"
      ],
      "metadata": {
        "id": "keAX5-Rffrj4"
      }
    },
    {
      "cell_type": "code",
      "source": [
        "df=pd.read_csv('Amazon Sale Report.csv')\n"
      ],
      "metadata": {
        "id": "b6VVS3fnOFaW"
      },
      "execution_count": 2,
      "outputs": []
    },
    {
      "cell_type": "code",
      "source": [
        "df.shape"
      ],
      "metadata": {
        "colab": {
          "base_uri": "https://localhost:8080/"
        },
        "id": "9YQGNcbhOLce",
        "outputId": "8e3db872-24a6-4710-90a0-01bfac6fc8e9"
      },
      "execution_count": 3,
      "outputs": [
        {
          "output_type": "execute_result",
          "data": {
            "text/plain": [
              "(128976, 21)"
            ]
          },
          "metadata": {},
          "execution_count": 3
        }
      ]
    },
    {
      "cell_type": "code",
      "source": [
        "df.head()"
      ],
      "metadata": {
        "colab": {
          "base_uri": "https://localhost:8080/",
          "height": 463
        },
        "id": "_PP8a90DOPHT",
        "outputId": "e56f33ff-c7ec-4438-b5b8-15bb97b9b151"
      },
      "execution_count": 4,
      "outputs": [
        {
          "output_type": "execute_result",
          "data": {
            "text/plain": [
              "   index             Order ID      Date                        Status  \\\n",
              "0      0  405-8078784-5731545  04-30-22                     Cancelled   \n",
              "1      1  171-9198151-1101146  04-30-22  Shipped - Delivered to Buyer   \n",
              "2      2  404-0687676-7273146  04-30-22                       Shipped   \n",
              "3      3  403-9615377-8133951  04-30-22                     Cancelled   \n",
              "4      4  407-1069790-7240320  04-30-22                       Shipped   \n",
              "\n",
              "  Fulfilment Sales Channel ship-service-level  Category Size Courier Status  \\\n",
              "0   Merchant     Amazon.in           Standard   T-shirt    S     On the Way   \n",
              "1   Merchant     Amazon.in           Standard     Shirt  3XL        Shipped   \n",
              "2     Amazon     Amazon.in          Expedited     Shirt   XL        Shipped   \n",
              "3   Merchant     Amazon.in           Standard   Blazzer    L     On the Way   \n",
              "4     Amazon     Amazon.in          Expedited  Trousers  3XL        Shipped   \n",
              "\n",
              "   ...  currency  Amount    ship-city   ship-state ship-postal-code  \\\n",
              "0  ...       INR  647.62       MUMBAI  MAHARASHTRA         400081.0   \n",
              "1  ...       INR  406.00    BENGALURU    KARNATAKA         560085.0   \n",
              "2  ...       INR  329.00  NAVI MUMBAI  MAHARASHTRA         410210.0   \n",
              "3  ...       INR  753.33   PUDUCHERRY   PUDUCHERRY         605008.0   \n",
              "4  ...       INR  574.00      CHENNAI   TAMIL NADU         600073.0   \n",
              "\n",
              "   ship-country    B2B  fulfilled-by New  PendingS  \n",
              "0            IN  False     Easy Ship NaN       NaN  \n",
              "1            IN  False     Easy Ship NaN       NaN  \n",
              "2            IN   True           NaN NaN       NaN  \n",
              "3            IN  False     Easy Ship NaN       NaN  \n",
              "4            IN  False           NaN NaN       NaN  \n",
              "\n",
              "[5 rows x 21 columns]"
            ],
            "text/html": [
              "\n",
              "  <div id=\"df-a45ea40b-8026-49bd-8e77-bb1488dd08ab\" class=\"colab-df-container\">\n",
              "    <div>\n",
              "<style scoped>\n",
              "    .dataframe tbody tr th:only-of-type {\n",
              "        vertical-align: middle;\n",
              "    }\n",
              "\n",
              "    .dataframe tbody tr th {\n",
              "        vertical-align: top;\n",
              "    }\n",
              "\n",
              "    .dataframe thead th {\n",
              "        text-align: right;\n",
              "    }\n",
              "</style>\n",
              "<table border=\"1\" class=\"dataframe\">\n",
              "  <thead>\n",
              "    <tr style=\"text-align: right;\">\n",
              "      <th></th>\n",
              "      <th>index</th>\n",
              "      <th>Order ID</th>\n",
              "      <th>Date</th>\n",
              "      <th>Status</th>\n",
              "      <th>Fulfilment</th>\n",
              "      <th>Sales Channel</th>\n",
              "      <th>ship-service-level</th>\n",
              "      <th>Category</th>\n",
              "      <th>Size</th>\n",
              "      <th>Courier Status</th>\n",
              "      <th>...</th>\n",
              "      <th>currency</th>\n",
              "      <th>Amount</th>\n",
              "      <th>ship-city</th>\n",
              "      <th>ship-state</th>\n",
              "      <th>ship-postal-code</th>\n",
              "      <th>ship-country</th>\n",
              "      <th>B2B</th>\n",
              "      <th>fulfilled-by</th>\n",
              "      <th>New</th>\n",
              "      <th>PendingS</th>\n",
              "    </tr>\n",
              "  </thead>\n",
              "  <tbody>\n",
              "    <tr>\n",
              "      <th>0</th>\n",
              "      <td>0</td>\n",
              "      <td>405-8078784-5731545</td>\n",
              "      <td>04-30-22</td>\n",
              "      <td>Cancelled</td>\n",
              "      <td>Merchant</td>\n",
              "      <td>Amazon.in</td>\n",
              "      <td>Standard</td>\n",
              "      <td>T-shirt</td>\n",
              "      <td>S</td>\n",
              "      <td>On the Way</td>\n",
              "      <td>...</td>\n",
              "      <td>INR</td>\n",
              "      <td>647.62</td>\n",
              "      <td>MUMBAI</td>\n",
              "      <td>MAHARASHTRA</td>\n",
              "      <td>400081.0</td>\n",
              "      <td>IN</td>\n",
              "      <td>False</td>\n",
              "      <td>Easy Ship</td>\n",
              "      <td>NaN</td>\n",
              "      <td>NaN</td>\n",
              "    </tr>\n",
              "    <tr>\n",
              "      <th>1</th>\n",
              "      <td>1</td>\n",
              "      <td>171-9198151-1101146</td>\n",
              "      <td>04-30-22</td>\n",
              "      <td>Shipped - Delivered to Buyer</td>\n",
              "      <td>Merchant</td>\n",
              "      <td>Amazon.in</td>\n",
              "      <td>Standard</td>\n",
              "      <td>Shirt</td>\n",
              "      <td>3XL</td>\n",
              "      <td>Shipped</td>\n",
              "      <td>...</td>\n",
              "      <td>INR</td>\n",
              "      <td>406.00</td>\n",
              "      <td>BENGALURU</td>\n",
              "      <td>KARNATAKA</td>\n",
              "      <td>560085.0</td>\n",
              "      <td>IN</td>\n",
              "      <td>False</td>\n",
              "      <td>Easy Ship</td>\n",
              "      <td>NaN</td>\n",
              "      <td>NaN</td>\n",
              "    </tr>\n",
              "    <tr>\n",
              "      <th>2</th>\n",
              "      <td>2</td>\n",
              "      <td>404-0687676-7273146</td>\n",
              "      <td>04-30-22</td>\n",
              "      <td>Shipped</td>\n",
              "      <td>Amazon</td>\n",
              "      <td>Amazon.in</td>\n",
              "      <td>Expedited</td>\n",
              "      <td>Shirt</td>\n",
              "      <td>XL</td>\n",
              "      <td>Shipped</td>\n",
              "      <td>...</td>\n",
              "      <td>INR</td>\n",
              "      <td>329.00</td>\n",
              "      <td>NAVI MUMBAI</td>\n",
              "      <td>MAHARASHTRA</td>\n",
              "      <td>410210.0</td>\n",
              "      <td>IN</td>\n",
              "      <td>True</td>\n",
              "      <td>NaN</td>\n",
              "      <td>NaN</td>\n",
              "      <td>NaN</td>\n",
              "    </tr>\n",
              "    <tr>\n",
              "      <th>3</th>\n",
              "      <td>3</td>\n",
              "      <td>403-9615377-8133951</td>\n",
              "      <td>04-30-22</td>\n",
              "      <td>Cancelled</td>\n",
              "      <td>Merchant</td>\n",
              "      <td>Amazon.in</td>\n",
              "      <td>Standard</td>\n",
              "      <td>Blazzer</td>\n",
              "      <td>L</td>\n",
              "      <td>On the Way</td>\n",
              "      <td>...</td>\n",
              "      <td>INR</td>\n",
              "      <td>753.33</td>\n",
              "      <td>PUDUCHERRY</td>\n",
              "      <td>PUDUCHERRY</td>\n",
              "      <td>605008.0</td>\n",
              "      <td>IN</td>\n",
              "      <td>False</td>\n",
              "      <td>Easy Ship</td>\n",
              "      <td>NaN</td>\n",
              "      <td>NaN</td>\n",
              "    </tr>\n",
              "    <tr>\n",
              "      <th>4</th>\n",
              "      <td>4</td>\n",
              "      <td>407-1069790-7240320</td>\n",
              "      <td>04-30-22</td>\n",
              "      <td>Shipped</td>\n",
              "      <td>Amazon</td>\n",
              "      <td>Amazon.in</td>\n",
              "      <td>Expedited</td>\n",
              "      <td>Trousers</td>\n",
              "      <td>3XL</td>\n",
              "      <td>Shipped</td>\n",
              "      <td>...</td>\n",
              "      <td>INR</td>\n",
              "      <td>574.00</td>\n",
              "      <td>CHENNAI</td>\n",
              "      <td>TAMIL NADU</td>\n",
              "      <td>600073.0</td>\n",
              "      <td>IN</td>\n",
              "      <td>False</td>\n",
              "      <td>NaN</td>\n",
              "      <td>NaN</td>\n",
              "      <td>NaN</td>\n",
              "    </tr>\n",
              "  </tbody>\n",
              "</table>\n",
              "<p>5 rows × 21 columns</p>\n",
              "</div>\n",
              "    <div class=\"colab-df-buttons\">\n",
              "\n",
              "  <div class=\"colab-df-container\">\n",
              "    <button class=\"colab-df-convert\" onclick=\"convertToInteractive('df-a45ea40b-8026-49bd-8e77-bb1488dd08ab')\"\n",
              "            title=\"Convert this dataframe to an interactive table.\"\n",
              "            style=\"display:none;\">\n",
              "\n",
              "  <svg xmlns=\"http://www.w3.org/2000/svg\" height=\"24px\" viewBox=\"0 -960 960 960\">\n",
              "    <path d=\"M120-120v-720h720v720H120Zm60-500h600v-160H180v160Zm220 220h160v-160H400v160Zm0 220h160v-160H400v160ZM180-400h160v-160H180v160Zm440 0h160v-160H620v160ZM180-180h160v-160H180v160Zm440 0h160v-160H620v160Z\"/>\n",
              "  </svg>\n",
              "    </button>\n",
              "\n",
              "  <style>\n",
              "    .colab-df-container {\n",
              "      display:flex;\n",
              "      gap: 12px;\n",
              "    }\n",
              "\n",
              "    .colab-df-convert {\n",
              "      background-color: #E8F0FE;\n",
              "      border: none;\n",
              "      border-radius: 50%;\n",
              "      cursor: pointer;\n",
              "      display: none;\n",
              "      fill: #1967D2;\n",
              "      height: 32px;\n",
              "      padding: 0 0 0 0;\n",
              "      width: 32px;\n",
              "    }\n",
              "\n",
              "    .colab-df-convert:hover {\n",
              "      background-color: #E2EBFA;\n",
              "      box-shadow: 0px 1px 2px rgba(60, 64, 67, 0.3), 0px 1px 3px 1px rgba(60, 64, 67, 0.15);\n",
              "      fill: #174EA6;\n",
              "    }\n",
              "\n",
              "    .colab-df-buttons div {\n",
              "      margin-bottom: 4px;\n",
              "    }\n",
              "\n",
              "    [theme=dark] .colab-df-convert {\n",
              "      background-color: #3B4455;\n",
              "      fill: #D2E3FC;\n",
              "    }\n",
              "\n",
              "    [theme=dark] .colab-df-convert:hover {\n",
              "      background-color: #434B5C;\n",
              "      box-shadow: 0px 1px 3px 1px rgba(0, 0, 0, 0.15);\n",
              "      filter: drop-shadow(0px 1px 2px rgba(0, 0, 0, 0.3));\n",
              "      fill: #FFFFFF;\n",
              "    }\n",
              "  </style>\n",
              "\n",
              "    <script>\n",
              "      const buttonEl =\n",
              "        document.querySelector('#df-a45ea40b-8026-49bd-8e77-bb1488dd08ab button.colab-df-convert');\n",
              "      buttonEl.style.display =\n",
              "        google.colab.kernel.accessAllowed ? 'block' : 'none';\n",
              "\n",
              "      async function convertToInteractive(key) {\n",
              "        const element = document.querySelector('#df-a45ea40b-8026-49bd-8e77-bb1488dd08ab');\n",
              "        const dataTable =\n",
              "          await google.colab.kernel.invokeFunction('convertToInteractive',\n",
              "                                                    [key], {});\n",
              "        if (!dataTable) return;\n",
              "\n",
              "        const docLinkHtml = 'Like what you see? Visit the ' +\n",
              "          '<a target=\"_blank\" href=https://colab.research.google.com/notebooks/data_table.ipynb>data table notebook</a>'\n",
              "          + ' to learn more about interactive tables.';\n",
              "        element.innerHTML = '';\n",
              "        dataTable['output_type'] = 'display_data';\n",
              "        await google.colab.output.renderOutput(dataTable, element);\n",
              "        const docLink = document.createElement('div');\n",
              "        docLink.innerHTML = docLinkHtml;\n",
              "        element.appendChild(docLink);\n",
              "      }\n",
              "    </script>\n",
              "  </div>\n",
              "\n",
              "\n",
              "<div id=\"df-0cd55745-273f-44d5-a9ed-226d251d5d4d\">\n",
              "  <button class=\"colab-df-quickchart\" onclick=\"quickchart('df-0cd55745-273f-44d5-a9ed-226d251d5d4d')\"\n",
              "            title=\"Suggest charts\"\n",
              "            style=\"display:none;\">\n",
              "\n",
              "<svg xmlns=\"http://www.w3.org/2000/svg\" height=\"24px\"viewBox=\"0 0 24 24\"\n",
              "     width=\"24px\">\n",
              "    <g>\n",
              "        <path d=\"M19 3H5c-1.1 0-2 .9-2 2v14c0 1.1.9 2 2 2h14c1.1 0 2-.9 2-2V5c0-1.1-.9-2-2-2zM9 17H7v-7h2v7zm4 0h-2V7h2v10zm4 0h-2v-4h2v4z\"/>\n",
              "    </g>\n",
              "</svg>\n",
              "  </button>\n",
              "\n",
              "<style>\n",
              "  .colab-df-quickchart {\n",
              "      --bg-color: #E8F0FE;\n",
              "      --fill-color: #1967D2;\n",
              "      --hover-bg-color: #E2EBFA;\n",
              "      --hover-fill-color: #174EA6;\n",
              "      --disabled-fill-color: #AAA;\n",
              "      --disabled-bg-color: #DDD;\n",
              "  }\n",
              "\n",
              "  [theme=dark] .colab-df-quickchart {\n",
              "      --bg-color: #3B4455;\n",
              "      --fill-color: #D2E3FC;\n",
              "      --hover-bg-color: #434B5C;\n",
              "      --hover-fill-color: #FFFFFF;\n",
              "      --disabled-bg-color: #3B4455;\n",
              "      --disabled-fill-color: #666;\n",
              "  }\n",
              "\n",
              "  .colab-df-quickchart {\n",
              "    background-color: var(--bg-color);\n",
              "    border: none;\n",
              "    border-radius: 50%;\n",
              "    cursor: pointer;\n",
              "    display: none;\n",
              "    fill: var(--fill-color);\n",
              "    height: 32px;\n",
              "    padding: 0;\n",
              "    width: 32px;\n",
              "  }\n",
              "\n",
              "  .colab-df-quickchart:hover {\n",
              "    background-color: var(--hover-bg-color);\n",
              "    box-shadow: 0 1px 2px rgba(60, 64, 67, 0.3), 0 1px 3px 1px rgba(60, 64, 67, 0.15);\n",
              "    fill: var(--button-hover-fill-color);\n",
              "  }\n",
              "\n",
              "  .colab-df-quickchart-complete:disabled,\n",
              "  .colab-df-quickchart-complete:disabled:hover {\n",
              "    background-color: var(--disabled-bg-color);\n",
              "    fill: var(--disabled-fill-color);\n",
              "    box-shadow: none;\n",
              "  }\n",
              "\n",
              "  .colab-df-spinner {\n",
              "    border: 2px solid var(--fill-color);\n",
              "    border-color: transparent;\n",
              "    border-bottom-color: var(--fill-color);\n",
              "    animation:\n",
              "      spin 1s steps(1) infinite;\n",
              "  }\n",
              "\n",
              "  @keyframes spin {\n",
              "    0% {\n",
              "      border-color: transparent;\n",
              "      border-bottom-color: var(--fill-color);\n",
              "      border-left-color: var(--fill-color);\n",
              "    }\n",
              "    20% {\n",
              "      border-color: transparent;\n",
              "      border-left-color: var(--fill-color);\n",
              "      border-top-color: var(--fill-color);\n",
              "    }\n",
              "    30% {\n",
              "      border-color: transparent;\n",
              "      border-left-color: var(--fill-color);\n",
              "      border-top-color: var(--fill-color);\n",
              "      border-right-color: var(--fill-color);\n",
              "    }\n",
              "    40% {\n",
              "      border-color: transparent;\n",
              "      border-right-color: var(--fill-color);\n",
              "      border-top-color: var(--fill-color);\n",
              "    }\n",
              "    60% {\n",
              "      border-color: transparent;\n",
              "      border-right-color: var(--fill-color);\n",
              "    }\n",
              "    80% {\n",
              "      border-color: transparent;\n",
              "      border-right-color: var(--fill-color);\n",
              "      border-bottom-color: var(--fill-color);\n",
              "    }\n",
              "    90% {\n",
              "      border-color: transparent;\n",
              "      border-bottom-color: var(--fill-color);\n",
              "    }\n",
              "  }\n",
              "</style>\n",
              "\n",
              "  <script>\n",
              "    async function quickchart(key) {\n",
              "      const quickchartButtonEl =\n",
              "        document.querySelector('#' + key + ' button');\n",
              "      quickchartButtonEl.disabled = true;  // To prevent multiple clicks.\n",
              "      quickchartButtonEl.classList.add('colab-df-spinner');\n",
              "      try {\n",
              "        const charts = await google.colab.kernel.invokeFunction(\n",
              "            'suggestCharts', [key], {});\n",
              "      } catch (error) {\n",
              "        console.error('Error during call to suggestCharts:', error);\n",
              "      }\n",
              "      quickchartButtonEl.classList.remove('colab-df-spinner');\n",
              "      quickchartButtonEl.classList.add('colab-df-quickchart-complete');\n",
              "    }\n",
              "    (() => {\n",
              "      let quickchartButtonEl =\n",
              "        document.querySelector('#df-0cd55745-273f-44d5-a9ed-226d251d5d4d button');\n",
              "      quickchartButtonEl.style.display =\n",
              "        google.colab.kernel.accessAllowed ? 'block' : 'none';\n",
              "    })();\n",
              "  </script>\n",
              "</div>\n",
              "\n",
              "    </div>\n",
              "  </div>\n"
            ],
            "application/vnd.google.colaboratory.intrinsic+json": {
              "type": "dataframe",
              "variable_name": "df"
            }
          },
          "metadata": {},
          "execution_count": 4
        }
      ]
    },
    {
      "cell_type": "code",
      "source": [
        "df.columns"
      ],
      "metadata": {
        "colab": {
          "base_uri": "https://localhost:8080/"
        },
        "id": "lEPheDnst2Yk",
        "outputId": "2369bb30-289c-4d42-dc6c-91b0e2d61b5f"
      },
      "execution_count": 5,
      "outputs": [
        {
          "output_type": "execute_result",
          "data": {
            "text/plain": [
              "Index(['index', 'Order ID', 'Date', 'Status', 'Fulfilment', 'Sales Channel',\n",
              "       'ship-service-level', 'Category', 'Size', 'Courier Status', 'Qty',\n",
              "       'currency', 'Amount', 'ship-city', 'ship-state', 'ship-postal-code',\n",
              "       'ship-country', 'B2B', 'fulfilled-by', 'New', 'PendingS'],\n",
              "      dtype='object')"
            ]
          },
          "metadata": {},
          "execution_count": 5
        }
      ]
    },
    {
      "cell_type": "markdown",
      "source": [
        "# **CHECKING AND HANDLING MISSING VALUES**"
      ],
      "metadata": {
        "id": "vafLTBq0QaLt"
      }
    },
    {
      "cell_type": "code",
      "source": [
        "# checking null value\n",
        "df.isnull().sum()"
      ],
      "metadata": {
        "colab": {
          "base_uri": "https://localhost:8080/"
        },
        "id": "fGB2E4U1PhPg",
        "outputId": "a2bac1aa-394e-4ce6-f50b-6708f6a378f1"
      },
      "execution_count": 6,
      "outputs": [
        {
          "output_type": "execute_result",
          "data": {
            "text/plain": [
              "index                      0\n",
              "Order ID                   0\n",
              "Date                       0\n",
              "Status                     0\n",
              "Fulfilment                 0\n",
              "Sales Channel              0\n",
              "ship-service-level         0\n",
              "Category                   0\n",
              "Size                       0\n",
              "Courier Status             0\n",
              "Qty                        0\n",
              "currency                7800\n",
              "Amount                  7800\n",
              "ship-city                 35\n",
              "ship-state                35\n",
              "ship-postal-code          35\n",
              "ship-country              35\n",
              "B2B                        0\n",
              "fulfilled-by           89713\n",
              "New                   128976\n",
              "PendingS              128976\n",
              "dtype: int64"
            ]
          },
          "metadata": {},
          "execution_count": 6
        }
      ]
    },
    {
      "cell_type": "code",
      "source": [
        "#looking for the percentage of missing values in the given data\n",
        "pd.DataFrame(df.isna().mean()*100).T"
      ],
      "metadata": {
        "id": "cbf5pXM4Qj5g",
        "colab": {
          "base_uri": "https://localhost:8080/",
          "height": 164
        },
        "outputId": "3c74307e-54f7-443a-e81d-d2f01db2f021"
      },
      "execution_count": 7,
      "outputs": [
        {
          "output_type": "execute_result",
          "data": {
            "text/plain": [
              "   index  Order ID  Date  Status  Fulfilment  Sales Channel  \\\n",
              "0    0.0       0.0   0.0     0.0         0.0            0.0   \n",
              "\n",
              "   ship-service-level  Category  Size  Courier Status  ...  currency  \\\n",
              "0                 0.0       0.0   0.0             0.0  ...  6.047637   \n",
              "\n",
              "     Amount  ship-city  ship-state  ship-postal-code  ship-country  B2B  \\\n",
              "0  6.047637   0.027137    0.027137          0.027137      0.027137  0.0   \n",
              "\n",
              "   fulfilled-by    New  PendingS  \n",
              "0     69.557902  100.0     100.0  \n",
              "\n",
              "[1 rows x 21 columns]"
            ],
            "text/html": [
              "\n",
              "  <div id=\"df-a699517f-333d-46c4-b88b-3985ca0da215\" class=\"colab-df-container\">\n",
              "    <div>\n",
              "<style scoped>\n",
              "    .dataframe tbody tr th:only-of-type {\n",
              "        vertical-align: middle;\n",
              "    }\n",
              "\n",
              "    .dataframe tbody tr th {\n",
              "        vertical-align: top;\n",
              "    }\n",
              "\n",
              "    .dataframe thead th {\n",
              "        text-align: right;\n",
              "    }\n",
              "</style>\n",
              "<table border=\"1\" class=\"dataframe\">\n",
              "  <thead>\n",
              "    <tr style=\"text-align: right;\">\n",
              "      <th></th>\n",
              "      <th>index</th>\n",
              "      <th>Order ID</th>\n",
              "      <th>Date</th>\n",
              "      <th>Status</th>\n",
              "      <th>Fulfilment</th>\n",
              "      <th>Sales Channel</th>\n",
              "      <th>ship-service-level</th>\n",
              "      <th>Category</th>\n",
              "      <th>Size</th>\n",
              "      <th>Courier Status</th>\n",
              "      <th>...</th>\n",
              "      <th>currency</th>\n",
              "      <th>Amount</th>\n",
              "      <th>ship-city</th>\n",
              "      <th>ship-state</th>\n",
              "      <th>ship-postal-code</th>\n",
              "      <th>ship-country</th>\n",
              "      <th>B2B</th>\n",
              "      <th>fulfilled-by</th>\n",
              "      <th>New</th>\n",
              "      <th>PendingS</th>\n",
              "    </tr>\n",
              "  </thead>\n",
              "  <tbody>\n",
              "    <tr>\n",
              "      <th>0</th>\n",
              "      <td>0.0</td>\n",
              "      <td>0.0</td>\n",
              "      <td>0.0</td>\n",
              "      <td>0.0</td>\n",
              "      <td>0.0</td>\n",
              "      <td>0.0</td>\n",
              "      <td>0.0</td>\n",
              "      <td>0.0</td>\n",
              "      <td>0.0</td>\n",
              "      <td>0.0</td>\n",
              "      <td>...</td>\n",
              "      <td>6.047637</td>\n",
              "      <td>6.047637</td>\n",
              "      <td>0.027137</td>\n",
              "      <td>0.027137</td>\n",
              "      <td>0.027137</td>\n",
              "      <td>0.027137</td>\n",
              "      <td>0.0</td>\n",
              "      <td>69.557902</td>\n",
              "      <td>100.0</td>\n",
              "      <td>100.0</td>\n",
              "    </tr>\n",
              "  </tbody>\n",
              "</table>\n",
              "<p>1 rows × 21 columns</p>\n",
              "</div>\n",
              "    <div class=\"colab-df-buttons\">\n",
              "\n",
              "  <div class=\"colab-df-container\">\n",
              "    <button class=\"colab-df-convert\" onclick=\"convertToInteractive('df-a699517f-333d-46c4-b88b-3985ca0da215')\"\n",
              "            title=\"Convert this dataframe to an interactive table.\"\n",
              "            style=\"display:none;\">\n",
              "\n",
              "  <svg xmlns=\"http://www.w3.org/2000/svg\" height=\"24px\" viewBox=\"0 -960 960 960\">\n",
              "    <path d=\"M120-120v-720h720v720H120Zm60-500h600v-160H180v160Zm220 220h160v-160H400v160Zm0 220h160v-160H400v160ZM180-400h160v-160H180v160Zm440 0h160v-160H620v160ZM180-180h160v-160H180v160Zm440 0h160v-160H620v160Z\"/>\n",
              "  </svg>\n",
              "    </button>\n",
              "\n",
              "  <style>\n",
              "    .colab-df-container {\n",
              "      display:flex;\n",
              "      gap: 12px;\n",
              "    }\n",
              "\n",
              "    .colab-df-convert {\n",
              "      background-color: #E8F0FE;\n",
              "      border: none;\n",
              "      border-radius: 50%;\n",
              "      cursor: pointer;\n",
              "      display: none;\n",
              "      fill: #1967D2;\n",
              "      height: 32px;\n",
              "      padding: 0 0 0 0;\n",
              "      width: 32px;\n",
              "    }\n",
              "\n",
              "    .colab-df-convert:hover {\n",
              "      background-color: #E2EBFA;\n",
              "      box-shadow: 0px 1px 2px rgba(60, 64, 67, 0.3), 0px 1px 3px 1px rgba(60, 64, 67, 0.15);\n",
              "      fill: #174EA6;\n",
              "    }\n",
              "\n",
              "    .colab-df-buttons div {\n",
              "      margin-bottom: 4px;\n",
              "    }\n",
              "\n",
              "    [theme=dark] .colab-df-convert {\n",
              "      background-color: #3B4455;\n",
              "      fill: #D2E3FC;\n",
              "    }\n",
              "\n",
              "    [theme=dark] .colab-df-convert:hover {\n",
              "      background-color: #434B5C;\n",
              "      box-shadow: 0px 1px 3px 1px rgba(0, 0, 0, 0.15);\n",
              "      filter: drop-shadow(0px 1px 2px rgba(0, 0, 0, 0.3));\n",
              "      fill: #FFFFFF;\n",
              "    }\n",
              "  </style>\n",
              "\n",
              "    <script>\n",
              "      const buttonEl =\n",
              "        document.querySelector('#df-a699517f-333d-46c4-b88b-3985ca0da215 button.colab-df-convert');\n",
              "      buttonEl.style.display =\n",
              "        google.colab.kernel.accessAllowed ? 'block' : 'none';\n",
              "\n",
              "      async function convertToInteractive(key) {\n",
              "        const element = document.querySelector('#df-a699517f-333d-46c4-b88b-3985ca0da215');\n",
              "        const dataTable =\n",
              "          await google.colab.kernel.invokeFunction('convertToInteractive',\n",
              "                                                    [key], {});\n",
              "        if (!dataTable) return;\n",
              "\n",
              "        const docLinkHtml = 'Like what you see? Visit the ' +\n",
              "          '<a target=\"_blank\" href=https://colab.research.google.com/notebooks/data_table.ipynb>data table notebook</a>'\n",
              "          + ' to learn more about interactive tables.';\n",
              "        element.innerHTML = '';\n",
              "        dataTable['output_type'] = 'display_data';\n",
              "        await google.colab.output.renderOutput(dataTable, element);\n",
              "        const docLink = document.createElement('div');\n",
              "        docLink.innerHTML = docLinkHtml;\n",
              "        element.appendChild(docLink);\n",
              "      }\n",
              "    </script>\n",
              "  </div>\n",
              "\n",
              "\n",
              "    </div>\n",
              "  </div>\n"
            ],
            "application/vnd.google.colaboratory.intrinsic+json": {
              "type": "dataframe"
            }
          },
          "metadata": {},
          "execution_count": 7
        }
      ]
    },
    {
      "cell_type": "markdown",
      "source": [
        "\n",
        "* Column \"Amount\" is numerical so we can impute mean or median.\n",
        "* Column \"currency\" is categorical so we can impute mode.\n",
        "* Remaining column \"ship-city\",\"ship-state\",\"ship-postal-code\" are having very less null values less than 1% so we can drop.\n",
        "* Column \"fulfilled-by\" has more null values greater tha 65% so we can drop that column.  \n",
        "\n"
      ],
      "metadata": {
        "id": "vEFQje46fw10"
      }
    },
    {
      "cell_type": "code",
      "source": [
        "print(df['Amount'].mean())\n",
        "print(df['currency'].mode())"
      ],
      "metadata": {
        "colab": {
          "base_uri": "https://localhost:8080/"
        },
        "id": "iMzZtENLrO89",
        "outputId": "02f81c6e-088d-4082-ed6a-2e2332c5eb54"
      },
      "execution_count": 8,
      "outputs": [
        {
          "output_type": "stream",
          "name": "stdout",
          "text": [
            "648.5621760909748\n",
            "0    INR\n",
            "Name: currency, dtype: object\n"
          ]
        }
      ]
    },
    {
      "cell_type": "markdown",
      "source": [
        "Imputing null values with mean and mode"
      ],
      "metadata": {
        "id": "lZQE4qW0iCIv"
      }
    },
    {
      "cell_type": "code",
      "source": [
        "df['Amount'] = df['Amount'].fillna(df['Amount'].mean())"
      ],
      "metadata": {
        "id": "hTIInTr0dyHd"
      },
      "execution_count": 9,
      "outputs": []
    },
    {
      "cell_type": "code",
      "source": [
        "df = df.fillna({\"currency\":st.mode(df['currency'])})"
      ],
      "metadata": {
        "id": "K1AA4asvlwvX"
      },
      "execution_count": 10,
      "outputs": []
    },
    {
      "cell_type": "code",
      "source": [
        "df.isnull().sum()"
      ],
      "metadata": {
        "colab": {
          "base_uri": "https://localhost:8080/"
        },
        "id": "7nztDITcloiI",
        "outputId": "0642a68e-002b-4d75-c0a3-6fa57958ba7f"
      },
      "execution_count": 11,
      "outputs": [
        {
          "output_type": "execute_result",
          "data": {
            "text/plain": [
              "index                      0\n",
              "Order ID                   0\n",
              "Date                       0\n",
              "Status                     0\n",
              "Fulfilment                 0\n",
              "Sales Channel              0\n",
              "ship-service-level         0\n",
              "Category                   0\n",
              "Size                       0\n",
              "Courier Status             0\n",
              "Qty                        0\n",
              "currency                   0\n",
              "Amount                     0\n",
              "ship-city                 35\n",
              "ship-state                35\n",
              "ship-postal-code          35\n",
              "ship-country              35\n",
              "B2B                        0\n",
              "fulfilled-by           89713\n",
              "New                   128976\n",
              "PendingS              128976\n",
              "dtype: int64"
            ]
          },
          "metadata": {},
          "execution_count": 11
        }
      ]
    },
    {
      "cell_type": "code",
      "source": [
        "df = df.dropna(subset = ['ship-city','ship-state','ship-postal-code','fulfilled-by'])\n"
      ],
      "metadata": {
        "id": "gYJomZ1VfA1R"
      },
      "execution_count": 12,
      "outputs": []
    },
    {
      "cell_type": "code",
      "source": [
        "df.isnull().sum()"
      ],
      "metadata": {
        "colab": {
          "base_uri": "https://localhost:8080/"
        },
        "id": "FZsUKJ9EmS9I",
        "outputId": "40037f6f-098f-4e79-b365-41d7d3dd4731"
      },
      "execution_count": 13,
      "outputs": [
        {
          "output_type": "execute_result",
          "data": {
            "text/plain": [
              "index                     0\n",
              "Order ID                  0\n",
              "Date                      0\n",
              "Status                    0\n",
              "Fulfilment                0\n",
              "Sales Channel             0\n",
              "ship-service-level        0\n",
              "Category                  0\n",
              "Size                      0\n",
              "Courier Status            0\n",
              "Qty                       0\n",
              "currency                  0\n",
              "Amount                    0\n",
              "ship-city                 0\n",
              "ship-state                0\n",
              "ship-postal-code          0\n",
              "ship-country              0\n",
              "B2B                       0\n",
              "fulfilled-by              0\n",
              "New                   39250\n",
              "PendingS              39250\n",
              "dtype: int64"
            ]
          },
          "metadata": {},
          "execution_count": 13
        }
      ]
    },
    {
      "cell_type": "markdown",
      "source": [
        "Dropping the column \"New\",\"Pending\" as the column is blank"
      ],
      "metadata": {
        "id": "KWKdFaQHiMGo"
      }
    },
    {
      "cell_type": "code",
      "source": [
        "#drop unrelated/blank columns\n",
        "df.drop(['New','PendingS'], axis=1, inplace=True)"
      ],
      "metadata": {
        "id": "VsYXyDK4enFd"
      },
      "execution_count": 14,
      "outputs": []
    },
    {
      "cell_type": "code",
      "source": [
        "df.isnull().sum()"
      ],
      "metadata": {
        "colab": {
          "base_uri": "https://localhost:8080/"
        },
        "id": "-WYCWBSIsfXn",
        "outputId": "8f116e62-c8d6-431e-da40-f5a3895527e1"
      },
      "execution_count": 15,
      "outputs": [
        {
          "output_type": "execute_result",
          "data": {
            "text/plain": [
              "index                 0\n",
              "Order ID              0\n",
              "Date                  0\n",
              "Status                0\n",
              "Fulfilment            0\n",
              "Sales Channel         0\n",
              "ship-service-level    0\n",
              "Category              0\n",
              "Size                  0\n",
              "Courier Status        0\n",
              "Qty                   0\n",
              "currency              0\n",
              "Amount                0\n",
              "ship-city             0\n",
              "ship-state            0\n",
              "ship-postal-code      0\n",
              "ship-country          0\n",
              "B2B                   0\n",
              "fulfilled-by          0\n",
              "dtype: int64"
            ]
          },
          "metadata": {},
          "execution_count": 15
        }
      ]
    },
    {
      "cell_type": "code",
      "source": [
        "df.info()"
      ],
      "metadata": {
        "colab": {
          "base_uri": "https://localhost:8080/"
        },
        "id": "K4pHT6e3dWZS",
        "outputId": "5fe5b253-6872-4d3f-ee75-9454dc2360e6"
      },
      "execution_count": 16,
      "outputs": [
        {
          "output_type": "stream",
          "name": "stdout",
          "text": [
            "<class 'pandas.core.frame.DataFrame'>\n",
            "Int64Index: 39250 entries, 0 to 128892\n",
            "Data columns (total 19 columns):\n",
            " #   Column              Non-Null Count  Dtype  \n",
            "---  ------              --------------  -----  \n",
            " 0   index               39250 non-null  int64  \n",
            " 1   Order ID            39250 non-null  object \n",
            " 2   Date                39250 non-null  object \n",
            " 3   Status              39250 non-null  object \n",
            " 4   Fulfilment          39250 non-null  object \n",
            " 5   Sales Channel       39250 non-null  object \n",
            " 6   ship-service-level  39250 non-null  object \n",
            " 7   Category            39250 non-null  object \n",
            " 8   Size                39250 non-null  object \n",
            " 9   Courier Status      39250 non-null  object \n",
            " 10  Qty                 39250 non-null  int64  \n",
            " 11  currency            39250 non-null  object \n",
            " 12  Amount              39250 non-null  float64\n",
            " 13  ship-city           39250 non-null  object \n",
            " 14  ship-state          39250 non-null  object \n",
            " 15  ship-postal-code    39250 non-null  float64\n",
            " 16  ship-country        39250 non-null  object \n",
            " 17  B2B                 39250 non-null  bool   \n",
            " 18  fulfilled-by        39250 non-null  object \n",
            "dtypes: bool(1), float64(2), int64(2), object(14)\n",
            "memory usage: 5.7+ MB\n"
          ]
        }
      ]
    },
    {
      "cell_type": "code",
      "source": [
        "df.shape"
      ],
      "metadata": {
        "colab": {
          "base_uri": "https://localhost:8080/"
        },
        "id": "vEFxxznBPvoL",
        "outputId": "35a8b1b9-08bd-47f5-bdc6-919f3a91b010"
      },
      "execution_count": 17,
      "outputs": [
        {
          "output_type": "execute_result",
          "data": {
            "text/plain": [
              "(39250, 19)"
            ]
          },
          "metadata": {},
          "execution_count": 17
        }
      ]
    },
    {
      "cell_type": "code",
      "source": [
        "df.columns"
      ],
      "metadata": {
        "colab": {
          "base_uri": "https://localhost:8080/"
        },
        "id": "mH3OLF5UP-0u",
        "outputId": "ab8992c5-4582-4fb7-fd49-97fd662ed6af"
      },
      "execution_count": 18,
      "outputs": [
        {
          "output_type": "execute_result",
          "data": {
            "text/plain": [
              "Index(['index', 'Order ID', 'Date', 'Status', 'Fulfilment', 'Sales Channel',\n",
              "       'ship-service-level', 'Category', 'Size', 'Courier Status', 'Qty',\n",
              "       'currency', 'Amount', 'ship-city', 'ship-state', 'ship-postal-code',\n",
              "       'ship-country', 'B2B', 'fulfilled-by'],\n",
              "      dtype='object')"
            ]
          },
          "metadata": {},
          "execution_count": 18
        }
      ]
    },
    {
      "cell_type": "markdown",
      "source": [
        "# **DATA TYPE CORRECTION**"
      ],
      "metadata": {
        "id": "8eNFRnX2ikkY"
      }
    },
    {
      "cell_type": "code",
      "source": [
        "df.dtypes"
      ],
      "metadata": {
        "colab": {
          "base_uri": "https://localhost:8080/"
        },
        "id": "X3tPEEByH7AB",
        "outputId": "8d0c8820-4c49-4ed4-db16-62bf3113d564"
      },
      "execution_count": 19,
      "outputs": [
        {
          "output_type": "execute_result",
          "data": {
            "text/plain": [
              "index                   int64\n",
              "Order ID               object\n",
              "Date                   object\n",
              "Status                 object\n",
              "Fulfilment             object\n",
              "Sales Channel          object\n",
              "ship-service-level     object\n",
              "Category               object\n",
              "Size                   object\n",
              "Courier Status         object\n",
              "Qty                     int64\n",
              "currency               object\n",
              "Amount                float64\n",
              "ship-city              object\n",
              "ship-state             object\n",
              "ship-postal-code      float64\n",
              "ship-country           object\n",
              "B2B                      bool\n",
              "fulfilled-by           object\n",
              "dtype: object"
            ]
          },
          "metadata": {},
          "execution_count": 19
        }
      ]
    },
    {
      "cell_type": "code",
      "source": [
        "# change data type\n",
        "df['ship-postal-code']=df['ship-postal-code'].astype('int')\n",
        "#checking whether the  data type change or not\n",
        "df['ship-postal-code'].dtype\n"
      ],
      "metadata": {
        "id": "smp2gtAPQCTO",
        "colab": {
          "base_uri": "https://localhost:8080/"
        },
        "outputId": "82dabd59-f938-431d-a6cc-7d9dfcb3e6d6"
      },
      "execution_count": 20,
      "outputs": [
        {
          "output_type": "execute_result",
          "data": {
            "text/plain": [
              "dtype('int64')"
            ]
          },
          "metadata": {},
          "execution_count": 20
        }
      ]
    },
    {
      "cell_type": "code",
      "source": [
        "df['Date']=pd.to_datetime (df['Date'])"
      ],
      "metadata": {
        "id": "zKjquRJBr20L"
      },
      "execution_count": 21,
      "outputs": []
    },
    {
      "cell_type": "code",
      "source": [
        "df.dtypes"
      ],
      "metadata": {
        "colab": {
          "base_uri": "https://localhost:8080/"
        },
        "id": "DM5ZJmKEHsXf",
        "outputId": "ea27e46d-eb67-4326-82e8-dc12bd3f59d0"
      },
      "execution_count": 22,
      "outputs": [
        {
          "output_type": "execute_result",
          "data": {
            "text/plain": [
              "index                          int64\n",
              "Order ID                      object\n",
              "Date                  datetime64[ns]\n",
              "Status                        object\n",
              "Fulfilment                    object\n",
              "Sales Channel                 object\n",
              "ship-service-level            object\n",
              "Category                      object\n",
              "Size                          object\n",
              "Courier Status                object\n",
              "Qty                            int64\n",
              "currency                      object\n",
              "Amount                       float64\n",
              "ship-city                     object\n",
              "ship-state                    object\n",
              "ship-postal-code               int64\n",
              "ship-country                  object\n",
              "B2B                             bool\n",
              "fulfilled-by                  object\n",
              "dtype: object"
            ]
          },
          "metadata": {},
          "execution_count": 22
        }
      ]
    },
    {
      "cell_type": "markdown",
      "source": [
        "converted the dataframe into right data format"
      ],
      "metadata": {
        "id": "wxtJyKD0IJGd"
      }
    },
    {
      "cell_type": "markdown",
      "source": [
        "# **DETECTING OUTLIERS**"
      ],
      "metadata": {
        "id": "GtYAKXR0HbFF"
      }
    },
    {
      "cell_type": "code",
      "source": [
        "df.describe()"
      ],
      "metadata": {
        "colab": {
          "base_uri": "https://localhost:8080/",
          "height": 300
        },
        "id": "8irVO5bAHqmN",
        "outputId": "3f75f3a0-dc86-4014-c6e0-689f76372601"
      },
      "execution_count": 23,
      "outputs": [
        {
          "output_type": "execute_result",
          "data": {
            "text/plain": [
              "               index           Qty        Amount  ship-postal-code\n",
              "count   39250.000000  39250.000000  39250.000000      39250.000000\n",
              "mean    60976.074344      0.829019    646.642782     463380.017350\n",
              "std     36840.737574      0.389470    273.691501     194549.635152\n",
              "min         0.000000      0.000000      0.000000     110001.000000\n",
              "25%     27248.500000      1.000000    459.000000     370110.000000\n",
              "50%     63487.500000      1.000000    647.620000     500019.000000\n",
              "75%     91874.750000      1.000000    771.000000     600042.000000\n",
              "max    128891.000000      5.000000   5495.000000     989898.000000"
            ],
            "text/html": [
              "\n",
              "  <div id=\"df-6750b709-5a0e-468d-87c9-80fe7b58228a\" class=\"colab-df-container\">\n",
              "    <div>\n",
              "<style scoped>\n",
              "    .dataframe tbody tr th:only-of-type {\n",
              "        vertical-align: middle;\n",
              "    }\n",
              "\n",
              "    .dataframe tbody tr th {\n",
              "        vertical-align: top;\n",
              "    }\n",
              "\n",
              "    .dataframe thead th {\n",
              "        text-align: right;\n",
              "    }\n",
              "</style>\n",
              "<table border=\"1\" class=\"dataframe\">\n",
              "  <thead>\n",
              "    <tr style=\"text-align: right;\">\n",
              "      <th></th>\n",
              "      <th>index</th>\n",
              "      <th>Qty</th>\n",
              "      <th>Amount</th>\n",
              "      <th>ship-postal-code</th>\n",
              "    </tr>\n",
              "  </thead>\n",
              "  <tbody>\n",
              "    <tr>\n",
              "      <th>count</th>\n",
              "      <td>39250.000000</td>\n",
              "      <td>39250.000000</td>\n",
              "      <td>39250.000000</td>\n",
              "      <td>39250.000000</td>\n",
              "    </tr>\n",
              "    <tr>\n",
              "      <th>mean</th>\n",
              "      <td>60976.074344</td>\n",
              "      <td>0.829019</td>\n",
              "      <td>646.642782</td>\n",
              "      <td>463380.017350</td>\n",
              "    </tr>\n",
              "    <tr>\n",
              "      <th>std</th>\n",
              "      <td>36840.737574</td>\n",
              "      <td>0.389470</td>\n",
              "      <td>273.691501</td>\n",
              "      <td>194549.635152</td>\n",
              "    </tr>\n",
              "    <tr>\n",
              "      <th>min</th>\n",
              "      <td>0.000000</td>\n",
              "      <td>0.000000</td>\n",
              "      <td>0.000000</td>\n",
              "      <td>110001.000000</td>\n",
              "    </tr>\n",
              "    <tr>\n",
              "      <th>25%</th>\n",
              "      <td>27248.500000</td>\n",
              "      <td>1.000000</td>\n",
              "      <td>459.000000</td>\n",
              "      <td>370110.000000</td>\n",
              "    </tr>\n",
              "    <tr>\n",
              "      <th>50%</th>\n",
              "      <td>63487.500000</td>\n",
              "      <td>1.000000</td>\n",
              "      <td>647.620000</td>\n",
              "      <td>500019.000000</td>\n",
              "    </tr>\n",
              "    <tr>\n",
              "      <th>75%</th>\n",
              "      <td>91874.750000</td>\n",
              "      <td>1.000000</td>\n",
              "      <td>771.000000</td>\n",
              "      <td>600042.000000</td>\n",
              "    </tr>\n",
              "    <tr>\n",
              "      <th>max</th>\n",
              "      <td>128891.000000</td>\n",
              "      <td>5.000000</td>\n",
              "      <td>5495.000000</td>\n",
              "      <td>989898.000000</td>\n",
              "    </tr>\n",
              "  </tbody>\n",
              "</table>\n",
              "</div>\n",
              "    <div class=\"colab-df-buttons\">\n",
              "\n",
              "  <div class=\"colab-df-container\">\n",
              "    <button class=\"colab-df-convert\" onclick=\"convertToInteractive('df-6750b709-5a0e-468d-87c9-80fe7b58228a')\"\n",
              "            title=\"Convert this dataframe to an interactive table.\"\n",
              "            style=\"display:none;\">\n",
              "\n",
              "  <svg xmlns=\"http://www.w3.org/2000/svg\" height=\"24px\" viewBox=\"0 -960 960 960\">\n",
              "    <path d=\"M120-120v-720h720v720H120Zm60-500h600v-160H180v160Zm220 220h160v-160H400v160Zm0 220h160v-160H400v160ZM180-400h160v-160H180v160Zm440 0h160v-160H620v160ZM180-180h160v-160H180v160Zm440 0h160v-160H620v160Z\"/>\n",
              "  </svg>\n",
              "    </button>\n",
              "\n",
              "  <style>\n",
              "    .colab-df-container {\n",
              "      display:flex;\n",
              "      gap: 12px;\n",
              "    }\n",
              "\n",
              "    .colab-df-convert {\n",
              "      background-color: #E8F0FE;\n",
              "      border: none;\n",
              "      border-radius: 50%;\n",
              "      cursor: pointer;\n",
              "      display: none;\n",
              "      fill: #1967D2;\n",
              "      height: 32px;\n",
              "      padding: 0 0 0 0;\n",
              "      width: 32px;\n",
              "    }\n",
              "\n",
              "    .colab-df-convert:hover {\n",
              "      background-color: #E2EBFA;\n",
              "      box-shadow: 0px 1px 2px rgba(60, 64, 67, 0.3), 0px 1px 3px 1px rgba(60, 64, 67, 0.15);\n",
              "      fill: #174EA6;\n",
              "    }\n",
              "\n",
              "    .colab-df-buttons div {\n",
              "      margin-bottom: 4px;\n",
              "    }\n",
              "\n",
              "    [theme=dark] .colab-df-convert {\n",
              "      background-color: #3B4455;\n",
              "      fill: #D2E3FC;\n",
              "    }\n",
              "\n",
              "    [theme=dark] .colab-df-convert:hover {\n",
              "      background-color: #434B5C;\n",
              "      box-shadow: 0px 1px 3px 1px rgba(0, 0, 0, 0.15);\n",
              "      filter: drop-shadow(0px 1px 2px rgba(0, 0, 0, 0.3));\n",
              "      fill: #FFFFFF;\n",
              "    }\n",
              "  </style>\n",
              "\n",
              "    <script>\n",
              "      const buttonEl =\n",
              "        document.querySelector('#df-6750b709-5a0e-468d-87c9-80fe7b58228a button.colab-df-convert');\n",
              "      buttonEl.style.display =\n",
              "        google.colab.kernel.accessAllowed ? 'block' : 'none';\n",
              "\n",
              "      async function convertToInteractive(key) {\n",
              "        const element = document.querySelector('#df-6750b709-5a0e-468d-87c9-80fe7b58228a');\n",
              "        const dataTable =\n",
              "          await google.colab.kernel.invokeFunction('convertToInteractive',\n",
              "                                                    [key], {});\n",
              "        if (!dataTable) return;\n",
              "\n",
              "        const docLinkHtml = 'Like what you see? Visit the ' +\n",
              "          '<a target=\"_blank\" href=https://colab.research.google.com/notebooks/data_table.ipynb>data table notebook</a>'\n",
              "          + ' to learn more about interactive tables.';\n",
              "        element.innerHTML = '';\n",
              "        dataTable['output_type'] = 'display_data';\n",
              "        await google.colab.output.renderOutput(dataTable, element);\n",
              "        const docLink = document.createElement('div');\n",
              "        docLink.innerHTML = docLinkHtml;\n",
              "        element.appendChild(docLink);\n",
              "      }\n",
              "    </script>\n",
              "  </div>\n",
              "\n",
              "\n",
              "<div id=\"df-f4532467-c7f0-47c2-95ea-e925f116e41e\">\n",
              "  <button class=\"colab-df-quickchart\" onclick=\"quickchart('df-f4532467-c7f0-47c2-95ea-e925f116e41e')\"\n",
              "            title=\"Suggest charts\"\n",
              "            style=\"display:none;\">\n",
              "\n",
              "<svg xmlns=\"http://www.w3.org/2000/svg\" height=\"24px\"viewBox=\"0 0 24 24\"\n",
              "     width=\"24px\">\n",
              "    <g>\n",
              "        <path d=\"M19 3H5c-1.1 0-2 .9-2 2v14c0 1.1.9 2 2 2h14c1.1 0 2-.9 2-2V5c0-1.1-.9-2-2-2zM9 17H7v-7h2v7zm4 0h-2V7h2v10zm4 0h-2v-4h2v4z\"/>\n",
              "    </g>\n",
              "</svg>\n",
              "  </button>\n",
              "\n",
              "<style>\n",
              "  .colab-df-quickchart {\n",
              "      --bg-color: #E8F0FE;\n",
              "      --fill-color: #1967D2;\n",
              "      --hover-bg-color: #E2EBFA;\n",
              "      --hover-fill-color: #174EA6;\n",
              "      --disabled-fill-color: #AAA;\n",
              "      --disabled-bg-color: #DDD;\n",
              "  }\n",
              "\n",
              "  [theme=dark] .colab-df-quickchart {\n",
              "      --bg-color: #3B4455;\n",
              "      --fill-color: #D2E3FC;\n",
              "      --hover-bg-color: #434B5C;\n",
              "      --hover-fill-color: #FFFFFF;\n",
              "      --disabled-bg-color: #3B4455;\n",
              "      --disabled-fill-color: #666;\n",
              "  }\n",
              "\n",
              "  .colab-df-quickchart {\n",
              "    background-color: var(--bg-color);\n",
              "    border: none;\n",
              "    border-radius: 50%;\n",
              "    cursor: pointer;\n",
              "    display: none;\n",
              "    fill: var(--fill-color);\n",
              "    height: 32px;\n",
              "    padding: 0;\n",
              "    width: 32px;\n",
              "  }\n",
              "\n",
              "  .colab-df-quickchart:hover {\n",
              "    background-color: var(--hover-bg-color);\n",
              "    box-shadow: 0 1px 2px rgba(60, 64, 67, 0.3), 0 1px 3px 1px rgba(60, 64, 67, 0.15);\n",
              "    fill: var(--button-hover-fill-color);\n",
              "  }\n",
              "\n",
              "  .colab-df-quickchart-complete:disabled,\n",
              "  .colab-df-quickchart-complete:disabled:hover {\n",
              "    background-color: var(--disabled-bg-color);\n",
              "    fill: var(--disabled-fill-color);\n",
              "    box-shadow: none;\n",
              "  }\n",
              "\n",
              "  .colab-df-spinner {\n",
              "    border: 2px solid var(--fill-color);\n",
              "    border-color: transparent;\n",
              "    border-bottom-color: var(--fill-color);\n",
              "    animation:\n",
              "      spin 1s steps(1) infinite;\n",
              "  }\n",
              "\n",
              "  @keyframes spin {\n",
              "    0% {\n",
              "      border-color: transparent;\n",
              "      border-bottom-color: var(--fill-color);\n",
              "      border-left-color: var(--fill-color);\n",
              "    }\n",
              "    20% {\n",
              "      border-color: transparent;\n",
              "      border-left-color: var(--fill-color);\n",
              "      border-top-color: var(--fill-color);\n",
              "    }\n",
              "    30% {\n",
              "      border-color: transparent;\n",
              "      border-left-color: var(--fill-color);\n",
              "      border-top-color: var(--fill-color);\n",
              "      border-right-color: var(--fill-color);\n",
              "    }\n",
              "    40% {\n",
              "      border-color: transparent;\n",
              "      border-right-color: var(--fill-color);\n",
              "      border-top-color: var(--fill-color);\n",
              "    }\n",
              "    60% {\n",
              "      border-color: transparent;\n",
              "      border-right-color: var(--fill-color);\n",
              "    }\n",
              "    80% {\n",
              "      border-color: transparent;\n",
              "      border-right-color: var(--fill-color);\n",
              "      border-bottom-color: var(--fill-color);\n",
              "    }\n",
              "    90% {\n",
              "      border-color: transparent;\n",
              "      border-bottom-color: var(--fill-color);\n",
              "    }\n",
              "  }\n",
              "</style>\n",
              "\n",
              "  <script>\n",
              "    async function quickchart(key) {\n",
              "      const quickchartButtonEl =\n",
              "        document.querySelector('#' + key + ' button');\n",
              "      quickchartButtonEl.disabled = true;  // To prevent multiple clicks.\n",
              "      quickchartButtonEl.classList.add('colab-df-spinner');\n",
              "      try {\n",
              "        const charts = await google.colab.kernel.invokeFunction(\n",
              "            'suggestCharts', [key], {});\n",
              "      } catch (error) {\n",
              "        console.error('Error during call to suggestCharts:', error);\n",
              "      }\n",
              "      quickchartButtonEl.classList.remove('colab-df-spinner');\n",
              "      quickchartButtonEl.classList.add('colab-df-quickchart-complete');\n",
              "    }\n",
              "    (() => {\n",
              "      let quickchartButtonEl =\n",
              "        document.querySelector('#df-f4532467-c7f0-47c2-95ea-e925f116e41e button');\n",
              "      quickchartButtonEl.style.display =\n",
              "        google.colab.kernel.accessAllowed ? 'block' : 'none';\n",
              "    })();\n",
              "  </script>\n",
              "</div>\n",
              "\n",
              "    </div>\n",
              "  </div>\n"
            ],
            "application/vnd.google.colaboratory.intrinsic+json": {
              "type": "dataframe",
              "summary": "{\n  \"name\": \"df\",\n  \"rows\": 8,\n  \"fields\": [\n    {\n      \"column\": \"index\",\n      \"properties\": {\n        \"dtype\": \"number\",\n        \"std\": 40162.46954880149,\n        \"min\": 0.0,\n        \"max\": 128891.0,\n        \"num_unique_values\": 8,\n        \"samples\": [\n          60976.07434394905,\n          63487.5,\n          39250.0\n        ],\n        \"semantic_type\": \"\",\n        \"description\": \"\"\n      }\n    },\n    {\n      \"column\": \"Qty\",\n      \"properties\": {\n        \"dtype\": \"number\",\n        \"std\": 13876.50506274955,\n        \"min\": 0.0,\n        \"max\": 39250.0,\n        \"num_unique_values\": 6,\n        \"samples\": [\n          39250.0,\n          0.8290191082802548,\n          5.0\n        ],\n        \"semantic_type\": \"\",\n        \"description\": \"\"\n      }\n    },\n    {\n      \"column\": \"Amount\",\n      \"properties\": {\n        \"dtype\": \"number\",\n        \"std\": 13574.837804057941,\n        \"min\": 0.0,\n        \"max\": 39250.0,\n        \"num_unique_values\": 8,\n        \"samples\": [\n          646.6427818520747,\n          647.62,\n          39250.0\n        ],\n        \"semantic_type\": \"\",\n        \"description\": \"\"\n      }\n    },\n    {\n      \"column\": \"ship-postal-code\",\n      \"properties\": {\n        \"dtype\": \"number\",\n        \"std\": 306779.4022875195,\n        \"min\": 39250.0,\n        \"max\": 989898.0,\n        \"num_unique_values\": 8,\n        \"samples\": [\n          463380.0173503185,\n          500019.0,\n          39250.0\n        ],\n        \"semantic_type\": \"\",\n        \"description\": \"\"\n      }\n    }\n  ]\n}"
            }
          },
          "metadata": {},
          "execution_count": 23
        }
      ]
    },
    {
      "cell_type": "code",
      "source": [
        "sns.boxplot(df['Amount'])\n",
        "plt.show()"
      ],
      "metadata": {
        "colab": {
          "base_uri": "https://localhost:8080/",
          "height": 411
        },
        "id": "wCh2V_f0IZtQ",
        "outputId": "4a671b81-08b2-4159-c3dc-f7320bec11d1"
      },
      "execution_count": 25,
      "outputs": [
        {
          "output_type": "display_data",
          "data": {
            "text/plain": [
              "<Figure size 640x480 with 1 Axes>"
            ],
            "image/png": "[encoded data removed]"
          },
          "metadata": {}
        }
      ]
    },
    {
      "cell_type": "markdown",
      "source": [
        "# **CHECKING FOR DUPLICATES**"
      ],
      "metadata": {
        "id": "vV41PfGdHhUE"
      }
    },
    {
      "cell_type": "code",
      "source": [
        "df.duplicated().sum()"
      ],
      "metadata": {
        "colab": {
          "base_uri": "https://localhost:8080/"
        },
        "id": "bQiM81bLHak0",
        "outputId": "3d054f31-c04c-4f1a-ebe4-476e27611af8"
      },
      "execution_count": 26,
      "outputs": [
        {
          "output_type": "execute_result",
          "data": {
            "text/plain": [
              "50"
            ]
          },
          "metadata": {},
          "execution_count": 26
        }
      ]
    },
    {
      "cell_type": "markdown",
      "source": [
        "There are 50 duplicates so we have to drop the duplicates"
      ],
      "metadata": {
        "id": "CVbO_hyLJvYR"
      }
    },
    {
      "cell_type": "code",
      "source": [
        "df = df.drop_duplicates()"
      ],
      "metadata": {
        "id": "kf49pZp9Jr9m"
      },
      "execution_count": 27,
      "outputs": []
    },
    {
      "cell_type": "code",
      "source": [
        "df.shape"
      ],
      "metadata": {
        "colab": {
          "base_uri": "https://localhost:8080/"
        },
        "id": "JHJwmvHSKMTZ",
        "outputId": "ace54de0-83cc-45e1-ab14-5a0c510ef3df"
      },
      "execution_count": 28,
      "outputs": [
        {
          "output_type": "execute_result",
          "data": {
            "text/plain": [
              "(39200, 19)"
            ]
          },
          "metadata": {},
          "execution_count": 28
        }
      ]
    },
    {
      "cell_type": "code",
      "source": [
        "df.columns"
      ],
      "metadata": {
        "colab": {
          "base_uri": "https://localhost:8080/"
        },
        "id": "81BNmAhJuxk9",
        "outputId": "d9566703-c230-4d90-9f8e-e85026838cc1"
      },
      "execution_count": 29,
      "outputs": [
        {
          "output_type": "execute_result",
          "data": {
            "text/plain": [
              "Index(['index', 'Order ID', 'Date', 'Status', 'Fulfilment', 'Sales Channel',\n",
              "       'ship-service-level', 'Category', 'Size', 'Courier Status', 'Qty',\n",
              "       'currency', 'Amount', 'ship-city', 'ship-state', 'ship-postal-code',\n",
              "       'ship-country', 'B2B', 'fulfilled-by'],\n",
              "      dtype='object')"
            ]
          },
          "metadata": {},
          "execution_count": 29
        }
      ]
    },
    {
      "cell_type": "markdown",
      "source": [
        "# **EXPLORATORY DATA ANALYSIS**"
      ],
      "metadata": {
        "id": "3IIBwEUnsdBY"
      }
    },
    {
      "cell_type": "code",
      "source": [
        "ax=sns.countplot(x='Size' ,data=df)\n",
        "\n",
        "for bars in ax.containers:\n",
        "    ax.bar_label(bars)"
      ],
      "metadata": {
        "colab": {
          "base_uri": "https://localhost:8080/",
          "height": 449
        },
        "id": "gOv9HCQWsk52",
        "outputId": "5b272ea8-8f92-4f9d-875e-43b8ec4162cc"
      },
      "execution_count": 30,
      "outputs": [
        {
          "output_type": "display_data",
          "data": {
            "text/plain": [
              "<Figure size 640x480 with 1 Axes>"
            ],
            "image/png": "[encoded data removed]"
          },
          "metadata": {}
        }
      ]
    },
    {
      "cell_type": "markdown",
      "source": [
        "Note: From above Graph you can see that most of the people buys M-Size\n"
      ],
      "metadata": {
        "id": "VXV4DnPcswha"
      }
    },
    {
      "cell_type": "code",
      "source": [
        "df.groupby(['Size'], as_index=False)['Qty'].sum().sort_values(by='Qty',ascending=False)\n"
      ],
      "metadata": {
        "colab": {
          "base_uri": "https://localhost:8080/",
          "height": 394
        },
        "id": "o2dF4LKEsx5Q",
        "outputId": "f51cce73-d55d-4fc1-b952-91666d34b295"
      },
      "execution_count": 31,
      "outputs": [
        {
          "output_type": "execute_result",
          "data": {
            "text/plain": [
              "    Size   Qty\n",
              "6      M  5897\n",
              "5      L  5789\n",
              "8     XL  5475\n",
              "10   XXL  4457\n",
              "0    3XL  3970\n",
              "7      S  3891\n",
              "9     XS  2183\n",
              "4   Free   467\n",
              "3    6XL   170\n",
              "2    5XL   104\n",
              "1    4XL    93"
            ],
            "text/html": [
              "\n",
              "  <div id=\"df-fb01c615-47ed-4777-9191-5e2bb977dd50\" class=\"colab-df-container\">\n",
              "    <div>\n",
              "<style scoped>\n",
              "    .dataframe tbody tr th:only-of-type {\n",
              "        vertical-align: middle;\n",
              "    }\n",
              "\n",
              "    .dataframe tbody tr th {\n",
              "        vertical-align: top;\n",
              "    }\n",
              "\n",
              "    .dataframe thead th {\n",
              "        text-align: right;\n",
              "    }\n",
              "</style>\n",
              "<table border=\"1\" class=\"dataframe\">\n",
              "  <thead>\n",
              "    <tr style=\"text-align: right;\">\n",
              "      <th></th>\n",
              "      <th>Size</th>\n",
              "      <th>Qty</th>\n",
              "    </tr>\n",
              "  </thead>\n",
              "  <tbody>\n",
              "    <tr>\n",
              "      <th>6</th>\n",
              "      <td>M</td>\n",
              "      <td>5897</td>\n",
              "    </tr>\n",
              "    <tr>\n",
              "      <th>5</th>\n",
              "      <td>L</td>\n",
              "      <td>5789</td>\n",
              "    </tr>\n",
              "    <tr>\n",
              "      <th>8</th>\n",
              "      <td>XL</td>\n",
              "      <td>5475</td>\n",
              "    </tr>\n",
              "    <tr>\n",
              "      <th>10</th>\n",
              "      <td>XXL</td>\n",
              "      <td>4457</td>\n",
              "    </tr>\n",
              "    <tr>\n",
              "      <th>0</th>\n",
              "      <td>3XL</td>\n",
              "      <td>3970</td>\n",
              "    </tr>\n",
              "    <tr>\n",
              "      <th>7</th>\n",
              "      <td>S</td>\n",
              "      <td>3891</td>\n",
              "    </tr>\n",
              "    <tr>\n",
              "      <th>9</th>\n",
              "      <td>XS</td>\n",
              "      <td>2183</td>\n",
              "    </tr>\n",
              "    <tr>\n",
              "      <th>4</th>\n",
              "      <td>Free</td>\n",
              "      <td>467</td>\n",
              "    </tr>\n",
              "    <tr>\n",
              "      <th>3</th>\n",
              "      <td>6XL</td>\n",
              "      <td>170</td>\n",
              "    </tr>\n",
              "    <tr>\n",
              "      <th>2</th>\n",
              "      <td>5XL</td>\n",
              "      <td>104</td>\n",
              "    </tr>\n",
              "    <tr>\n",
              "      <th>1</th>\n",
              "      <td>4XL</td>\n",
              "      <td>93</td>\n",
              "    </tr>\n",
              "  </tbody>\n",
              "</table>\n",
              "</div>\n",
              "    <div class=\"colab-df-buttons\">\n",
              "\n",
              "  <div class=\"colab-df-container\">\n",
              "    <button class=\"colab-df-convert\" onclick=\"convertToInteractive('df-fb01c615-47ed-4777-9191-5e2bb977dd50')\"\n",
              "            title=\"Convert this dataframe to an interactive table.\"\n",
              "            style=\"display:none;\">\n",
              "\n",
              "  <svg xmlns=\"http://www.w3.org/2000/svg\" height=\"24px\" viewBox=\"0 -960 960 960\">\n",
              "    <path d=\"M120-120v-720h720v720H120Zm60-500h600v-160H180v160Zm220 220h160v-160H400v160Zm0 220h160v-160H400v160ZM180-400h160v-160H180v160Zm440 0h160v-160H620v160ZM180-180h160v-160H180v160Zm440 0h160v-160H620v160Z\"/>\n",
              "  </svg>\n",
              "    </button>\n",
              "\n",
              "  <style>\n",
              "    .colab-df-container {\n",
              "      display:flex;\n",
              "      gap: 12px;\n",
              "    }\n",
              "\n",
              "    .colab-df-convert {\n",
              "      background-color: #E8F0FE;\n",
              "      border: none;\n",
              "      border-radius: 50%;\n",
              "      cursor: pointer;\n",
              "      display: none;\n",
              "      fill: #1967D2;\n",
              "      height: 32px;\n",
              "      padding: 0 0 0 0;\n",
              "      width: 32px;\n",
              "    }\n",
              "\n",
              "    .colab-df-convert:hover {\n",
              "      background-color: #E2EBFA;\n",
              "      box-shadow: 0px 1px 2px rgba(60, 64, 67, 0.3), 0px 1px 3px 1px rgba(60, 64, 67, 0.15);\n",
              "      fill: #174EA6;\n",
              "    }\n",
              "\n",
              "    .colab-df-buttons div {\n",
              "      margin-bottom: 4px;\n",
              "    }\n",
              "\n",
              "    [theme=dark] .colab-df-convert {\n",
              "      background-color: #3B4455;\n",
              "      fill: #D2E3FC;\n",
              "    }\n",
              "\n",
              "    [theme=dark] .colab-df-convert:hover {\n",
              "      background-color: #434B5C;\n",
              "      box-shadow: 0px 1px 3px 1px rgba(0, 0, 0, 0.15);\n",
              "      filter: drop-shadow(0px 1px 2px rgba(0, 0, 0, 0.3));\n",
              "      fill: #FFFFFF;\n",
              "    }\n",
              "  </style>\n",
              "\n",
              "    <script>\n",
              "      const buttonEl =\n",
              "        document.querySelector('#df-fb01c615-47ed-4777-9191-5e2bb977dd50 button.colab-df-convert');\n",
              "      buttonEl.style.display =\n",
              "        google.colab.kernel.accessAllowed ? 'block' : 'none';\n",
              "\n",
              "      async function convertToInteractive(key) {\n",
              "        const element = document.querySelector('#df-fb01c615-47ed-4777-9191-5e2bb977dd50');\n",
              "        const dataTable =\n",
              "          await google.colab.kernel.invokeFunction('convertToInteractive',\n",
              "                                                    [key], {});\n",
              "        if (!dataTable) return;\n",
              "\n",
              "        const docLinkHtml = 'Like what you see? Visit the ' +\n",
              "          '<a target=\"_blank\" href=https://colab.research.google.com/notebooks/data_table.ipynb>data table notebook</a>'\n",
              "          + ' to learn more about interactive tables.';\n",
              "        element.innerHTML = '';\n",
              "        dataTable['output_type'] = 'display_data';\n",
              "        await google.colab.output.renderOutput(dataTable, element);\n",
              "        const docLink = document.createElement('div');\n",
              "        docLink.innerHTML = docLinkHtml;\n",
              "        element.appendChild(docLink);\n",
              "      }\n",
              "    </script>\n",
              "  </div>\n",
              "\n",
              "\n",
              "<div id=\"df-954ab158-bab8-4457-b641-26da63702c38\">\n",
              "  <button class=\"colab-df-quickchart\" onclick=\"quickchart('df-954ab158-bab8-4457-b641-26da63702c38')\"\n",
              "            title=\"Suggest charts\"\n",
              "            style=\"display:none;\">\n",
              "\n",
              "<svg xmlns=\"http://www.w3.org/2000/svg\" height=\"24px\"viewBox=\"0 0 24 24\"\n",
              "     width=\"24px\">\n",
              "    <g>\n",
              "        <path d=\"M19 3H5c-1.1 0-2 .9-2 2v14c0 1.1.9 2 2 2h14c1.1 0 2-.9 2-2V5c0-1.1-.9-2-2-2zM9 17H7v-7h2v7zm4 0h-2V7h2v10zm4 0h-2v-4h2v4z\"/>\n",
              "    </g>\n",
              "</svg>\n",
              "  </button>\n",
              "\n",
              "<style>\n",
              "  .colab-df-quickchart {\n",
              "      --bg-color: #E8F0FE;\n",
              "      --fill-color: #1967D2;\n",
              "      --hover-bg-color: #E2EBFA;\n",
              "      --hover-fill-color: #174EA6;\n",
              "      --disabled-fill-color: #AAA;\n",
              "      --disabled-bg-color: #DDD;\n",
              "  }\n",
              "\n",
              "  [theme=dark] .colab-df-quickchart {\n",
              "      --bg-color: #3B4455;\n",
              "      --fill-color: #D2E3FC;\n",
              "      --hover-bg-color: #434B5C;\n",
              "      --hover-fill-color: #FFFFFF;\n",
              "      --disabled-bg-color: #3B4455;\n",
              "      --disabled-fill-color: #666;\n",
              "  }\n",
              "\n",
              "  .colab-df-quickchart {\n",
              "    background-color: var(--bg-color);\n",
              "    border: none;\n",
              "    border-radius: 50%;\n",
              "    cursor: pointer;\n",
              "    display: none;\n",
              "    fill: var(--fill-color);\n",
              "    height: 32px;\n",
              "    padding: 0;\n",
              "    width: 32px;\n",
              "  }\n",
              "\n",
              "  .colab-df-quickchart:hover {\n",
              "    background-color: var(--hover-bg-color);\n",
              "    box-shadow: 0 1px 2px rgba(60, 64, 67, 0.3), 0 1px 3px 1px rgba(60, 64, 67, 0.15);\n",
              "    fill: var(--button-hover-fill-color);\n",
              "  }\n",
              "\n",
              "  .colab-df-quickchart-complete:disabled,\n",
              "  .colab-df-quickchart-complete:disabled:hover {\n",
              "    background-color: var(--disabled-bg-color);\n",
              "    fill: var(--disabled-fill-color);\n",
              "    box-shadow: none;\n",
              "  }\n",
              "\n",
              "  .colab-df-spinner {\n",
              "    border: 2px solid var(--fill-color);\n",
              "    border-color: transparent;\n",
              "    border-bottom-color: var(--fill-color);\n",
              "    animation:\n",
              "      spin 1s steps(1) infinite;\n",
              "  }\n",
              "\n",
              "  @keyframes spin {\n",
              "    0% {\n",
              "      border-color: transparent;\n",
              "      border-bottom-color: var(--fill-color);\n",
              "      border-left-color: var(--fill-color);\n",
              "    }\n",
              "    20% {\n",
              "      border-color: transparent;\n",
              "      border-left-color: var(--fill-color);\n",
              "      border-top-color: var(--fill-color);\n",
              "    }\n",
              "    30% {\n",
              "      border-color: transparent;\n",
              "      border-left-color: var(--fill-color);\n",
              "      border-top-color: var(--fill-color);\n",
              "      border-right-color: var(--fill-color);\n",
              "    }\n",
              "    40% {\n",
              "      border-color: transparent;\n",
              "      border-right-color: var(--fill-color);\n",
              "      border-top-color: var(--fill-color);\n",
              "    }\n",
              "    60% {\n",
              "      border-color: transparent;\n",
              "      border-right-color: var(--fill-color);\n",
              "    }\n",
              "    80% {\n",
              "      border-color: transparent;\n",
              "      border-right-color: var(--fill-color);\n",
              "      border-bottom-color: var(--fill-color);\n",
              "    }\n",
              "    90% {\n",
              "      border-color: transparent;\n",
              "      border-bottom-color: var(--fill-color);\n",
              "    }\n",
              "  }\n",
              "</style>\n",
              "\n",
              "  <script>\n",
              "    async function quickchart(key) {\n",
              "      const quickchartButtonEl =\n",
              "        document.querySelector('#' + key + ' button');\n",
              "      quickchartButtonEl.disabled = true;  // To prevent multiple clicks.\n",
              "      quickchartButtonEl.classList.add('colab-df-spinner');\n",
              "      try {\n",
              "        const charts = await google.colab.kernel.invokeFunction(\n",
              "            'suggestCharts', [key], {});\n",
              "      } catch (error) {\n",
              "        console.error('Error during call to suggestCharts:', error);\n",
              "      }\n",
              "      quickchartButtonEl.classList.remove('colab-df-spinner');\n",
              "      quickchartButtonEl.classList.add('colab-df-quickchart-complete');\n",
              "    }\n",
              "    (() => {\n",
              "      let quickchartButtonEl =\n",
              "        document.querySelector('#df-954ab158-bab8-4457-b641-26da63702c38 button');\n",
              "      quickchartButtonEl.style.display =\n",
              "        google.colab.kernel.accessAllowed ? 'block' : 'none';\n",
              "    })();\n",
              "  </script>\n",
              "</div>\n",
              "\n",
              "    </div>\n",
              "  </div>\n"
            ],
            "application/vnd.google.colaboratory.intrinsic+json": {
              "type": "dataframe",
              "summary": "{\n  \"name\": \"df\",\n  \"rows\": 11,\n  \"fields\": [\n    {\n      \"column\": \"Size\",\n      \"properties\": {\n        \"dtype\": \"string\",\n        \"num_unique_values\": 11,\n        \"samples\": [\n          \"S\",\n          \"M\",\n          \"5XL\"\n        ],\n        \"semantic_type\": \"\",\n        \"description\": \"\"\n      }\n    },\n    {\n      \"column\": \"Qty\",\n      \"properties\": {\n        \"dtype\": \"number\",\n        \"std\": 2409,\n        \"min\": 93,\n        \"max\": 5897,\n        \"num_unique_values\": 11,\n        \"samples\": [\n          3891,\n          5897,\n          104\n        ],\n        \"semantic_type\": \"\",\n        \"description\": \"\"\n      }\n    }\n  ]\n}"
            }
          },
          "metadata": {},
          "execution_count": 31
        }
      ]
    },
    {
      "cell_type": "code",
      "source": [
        "S_Qty=df.groupby(['Size'], as_index=False)['Qty'].sum().sort_values(by='Qty',ascending=False)\n",
        "\n",
        "sns.barplot(x='Size',y='Qty', data=S_Qty)"
      ],
      "metadata": {
        "colab": {
          "base_uri": "https://localhost:8080/",
          "height": 467
        },
        "id": "O8d-G35Csq0n",
        "outputId": "eef6e4d6-84b1-4afd-9420-5b674ee394de"
      },
      "execution_count": 32,
      "outputs": [
        {
          "output_type": "execute_result",
          "data": {
            "text/plain": [
              "<Axes: xlabel='Size', ylabel='Qty'>"
            ]
          },
          "metadata": {},
          "execution_count": 32
        },
        {
          "output_type": "display_data",
          "data": {
            "text/plain": [
              "<Figure size 640x480 with 1 Axes>"
            ],
            "image/png": "[encoded data removed]"
          },
          "metadata": {}
        }
      ]
    },
    {
      "cell_type": "markdown",
      "source": [
        "Note: From above Graph you can see that most of the Qty buys M-Size in the sales"
      ],
      "metadata": {
        "id": "99Ql-avMtCqo"
      }
    },
    {
      "cell_type": "code",
      "source": [
        "plt.figure(figsize=(10,5))\n",
        "\n",
        "ax=sns.countplot(data=df, x='Courier Status',hue= 'Status')\n",
        "\n",
        "plt.show()\n"
      ],
      "metadata": {
        "colab": {
          "base_uri": "https://localhost:8080/",
          "height": 469
        },
        "id": "v8X6j-XTtSA5",
        "outputId": "9ffeefdc-b32d-4bf2-d9f1-4533dfe0fd8d"
      },
      "execution_count": 33,
      "outputs": [
        {
          "output_type": "display_data",
          "data": {
            "text/plain": [
              "<Figure size 1000x500 with 1 Axes>"
            ],
            "image/png": "[encoded data removed]"
          },
          "metadata": {}
        }
      ]
    },
    {
      "cell_type": "markdown",
      "source": [
        "Note: From above Graph the majority of the orders are shipped through the courier.\n"
      ],
      "metadata": {
        "id": "eDjSTEkYtZft"
      }
    },
    {
      "cell_type": "code",
      "source": [
        "df['Category'] = df['Category'].astype(str)\n",
        "column_data = df['Category']\n",
        "plt.figure(figsize=(10, 5))\n",
        "plt.hist(column_data, bins=30, edgecolor='Black')\n",
        "plt.xticks(rotation=90)\n",
        "plt.show()"
      ],
      "metadata": {
        "colab": {
          "base_uri": "https://localhost:8080/",
          "height": 489
        },
        "id": "3M3h_EUStfWC",
        "outputId": "e7f959c2-fdb7-4f0c-be8b-ff4388a3995f"
      },
      "execution_count": 35,
      "outputs": [
        {
          "output_type": "display_data",
          "data": {
            "text/plain": [
              "<Figure size 1000x500 with 1 Axes>"
            ],
            "image/png": "[encoded data removed]"
          },
          "metadata": {}
        }
      ]
    },
    {
      "cell_type": "markdown",
      "source": [
        "Note: From above Graph you can see that most of the buyers are T-shirt"
      ],
      "metadata": {
        "id": "tLQtK2extpMn"
      }
    },
    {
      "cell_type": "code",
      "source": [
        "# Checking B2B Data  by using pie chart\n",
        "B2B_Check = df['B2B'].value_counts()\n",
        "\n",
        "#  Plot the pie chart\n",
        "plt.pie(B2B_Check, labels=B2B_Check, autopct='%1.1f%%')\n",
        "#plt.axis('equal')\n",
        "plt.show()"
      ],
      "metadata": {
        "colab": {
          "base_uri": "https://localhost:8080/",
          "height": 406
        },
        "id": "vCU_VnUhtljj",
        "outputId": "e0e5e513-718d-4712-ecd0-5ac82e035e66"
      },
      "execution_count": 36,
      "outputs": [
        {
          "output_type": "display_data",
          "data": {
            "text/plain": [
              "<Figure size 640x480 with 1 Axes>"
            ],
            "image/png": "[encoded data removed]"
          },
          "metadata": {}
        }
      ]
    },
    {
      "cell_type": "code",
      "source": [
        "# Checking B2B Data  by using pie chart\n",
        "B2B_Check = df['B2B'].value_counts()\n",
        "\n",
        "#  Plot the pie chart\n",
        "plt.pie(B2B_Check, labels=B2B_Check.index, autopct='%1.1f%%')\n",
        "#plt.axis('equal')\n",
        "plt.show()"
      ],
      "metadata": {
        "colab": {
          "base_uri": "https://localhost:8080/",
          "height": 406
        },
        "id": "tbR1okvZtxLy",
        "outputId": "aa105679-11ec-4882-c6a9-31cc7844b283"
      },
      "execution_count": 37,
      "outputs": [
        {
          "output_type": "display_data",
          "data": {
            "text/plain": [
              "<Figure size 640x480 with 1 Axes>"
            ],
            "image/png": "[encoded data removed]"
          },
          "metadata": {}
        }
      ]
    },
    {
      "cell_type": "markdown",
      "source": [
        "Note : From above chart we can see that maximum i.e. 99.3% of buyers are retailers and 0.7% are B2B buyers\n"
      ],
      "metadata": {
        "id": "0o6X0w8wuJfa"
      }
    },
    {
      "cell_type": "code",
      "source": [
        "# Prepare data for scatter plot\n",
        "x_data = df['Category']\n",
        "y_data = df['Size']\n",
        "\n",
        "# Plot the scatter plot\n",
        "plt.scatter(x_data, y_data)\n",
        "plt.xlabel('Category ')\n",
        "plt.ylabel('Size')\n",
        "plt.title('Scatter Plot')\n",
        "plt.show()"
      ],
      "metadata": {
        "colab": {
          "base_uri": "https://localhost:8080/",
          "height": 472
        },
        "id": "UAR2ukxEua3u",
        "outputId": "de6b5f56-aa8f-4711-b8f8-f5bb002e3d8b"
      },
      "execution_count": 39,
      "outputs": [
        {
          "output_type": "display_data",
          "data": {
            "text/plain": [
              "<Figure size 640x480 with 1 Axes>"
            ],
            "image/png": "[encoded data removed]"
          },
          "metadata": {}
        }
      ]
    },
    {
      "cell_type": "code",
      "source": [
        "sns.countplot(data = df, x = 'Category')\n",
        "plt.xlabel('Category')\n",
        "plt.ylabel('Amount')\n",
        "plt.title('Amount vs Category')\n",
        "plt.xticks(rotation=90)\n",
        "plt.show()"
      ],
      "metadata": {
        "colab": {
          "base_uri": "https://localhost:8080/",
          "height": 516
        },
        "id": "hWKZtXtGvnwl",
        "outputId": "2ae5e60c-cfa7-4560-a62b-06069946eba6"
      },
      "execution_count": 46,
      "outputs": [
        {
          "output_type": "display_data",
          "data": {
            "text/plain": [
              "<Figure size 640x480 with 1 Axes>"
            ],
            "image/png": "[encoded data removed]"
          },
          "metadata": {}
        }
      ]
    },
    {
      "cell_type": "code",
      "source": [
        "# Plot count of cities by state\n",
        "plt.figure(figsize=(12, 6))\n",
        "sns.countplot(data=df, x='ship-state')\n",
        "plt.xlabel('ship-state')\n",
        "plt.ylabel('count')\n",
        "plt.title('Distribution of State')\n",
        "plt.xticks(rotation=90)\n",
        "plt.show()"
      ],
      "metadata": {
        "colab": {
          "base_uri": "https://localhost:8080/",
          "height": 711
        },
        "id": "HsWAk5bIuvwP",
        "outputId": "a957ee2d-21d7-49dc-91d3-a2caba635d7c"
      },
      "execution_count": 40,
      "outputs": [
        {
          "output_type": "display_data",
          "data": {
            "text/plain": [
              "<Figure size 1200x600 with 1 Axes>"
            ],
            "image/png": "[encoded data removed]"
          },
          "metadata": {}
        }
      ]
    },
    {
      "cell_type": "code",
      "source": [
        "# top_10_States\n",
        "top_10_state = df['ship-state'].value_counts().head(10)\n",
        "# Plot count of cities by state\n",
        "plt.figure(figsize=(12, 6))\n",
        "sns.countplot(data=df[df['ship-state'].isin(top_10_state.index)], x='ship-state')\n",
        "plt.xlabel('ship-state')\n",
        "plt.ylabel('count')\n",
        "plt.title('Distribution of  State')\n",
        "plt.xticks(rotation=45)\n",
        "plt.show()\n"
      ],
      "metadata": {
        "colab": {
          "base_uri": "https://localhost:8080/",
          "height": 652
        },
        "id": "YOdsXHo_uyzQ",
        "outputId": "9bc99184-695c-4e0f-bf11-5a6b1e6d40a4"
      },
      "execution_count": 41,
      "outputs": [
        {
          "output_type": "display_data",
          "data": {
            "text/plain": [
              "<Figure size 1200x600 with 1 Axes>"
            ],
            "image/png": "[encoded data removed]"
          },
          "metadata": {}
        }
      ]
    },
    {
      "cell_type": "markdown",
      "source": [
        "Note: From above Graph you can see that most of the buyers are Maharashtra state"
      ],
      "metadata": {
        "id": "7U2rWMZBu_k0"
      }
    },
    {
      "cell_type": "markdown",
      "source": [
        "# **Conclusion**\n",
        "The data analysis reveals that the business has a significant customer base in Maharashtra state, mainly serves retailers, fulfills orders through Amazon, experiences high demand for T-shirts, and sees M-Size as the preferred choice among buyers.\n"
      ],
      "metadata": {
        "id": "UCFEwY6mvIyu"
      }
    }
  ]
}